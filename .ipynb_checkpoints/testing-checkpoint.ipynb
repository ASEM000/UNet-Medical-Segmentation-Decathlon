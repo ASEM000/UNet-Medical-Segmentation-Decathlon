{
 "cells": [
  {
   "cell_type": "code",
   "execution_count": 120,
   "id": "17eeec43-ff17-48d2-97b0-265cf99d8eb1",
   "metadata": {},
   "outputs": [],
   "source": [
    "import torch \n",
    "import torchvision\n",
    "import torch.nn as nn\n",
    "from torch.utils.data import Dataset , DataLoader\n",
    "from torch.optim.lr_scheduler import ReduceLROnPlateau\n",
    "import numpy as np\n",
    "\n",
    "import matplotlib.pyplot as plt\n",
    "import os\n",
    "\n",
    "from typing import List,Tuple,Callable,Dict\n",
    "\n",
    "from utility_functions import *\n",
    "from dataset_dataloader import *\n",
    "from variable_unet import *\n",
    "from augmentation_class import *\n",
    "from train_utility_functions import *\n",
    "\n",
    "from ipywidgets import *\n",
    "\n",
    "import numba\n",
    "\n",
    "import pickle"
   ]
  },
  {
   "cell_type": "markdown",
   "id": "596d9db1-f224-4696-9e39-e6cddfb9d591",
   "metadata": {},
   "source": [
    "#### load dataset"
   ]
  },
  {
   "cell_type": "code",
   "execution_count": 5,
   "id": "82c218a8-b510-4040-bb11-2535401697f0",
   "metadata": {},
   "outputs": [
    {
     "data": {
      "application/vnd.jupyter.widget-view+json": {
       "model_id": "f5e9f6262d0b4487bdbe3ed3c0627312",
       "version_major": 2,
       "version_minor": 0
      },
      "text/plain": [
       "  0%|          | 0/3 [00:00<?, ?it/s]"
      ]
     },
     "metadata": {},
     "output_type": "display_data"
    },
    {
     "data": {
      "application/vnd.jupyter.widget-view+json": {
       "model_id": "808375041ba8414b82bc549e7a3f8984",
       "version_major": 2,
       "version_minor": 0
      },
      "text/plain": [
       "  0%|          | 0/3 [00:00<?, ?it/s]"
      ]
     },
     "metadata": {},
     "output_type": "display_data"
    }
   ],
   "source": [
    "test_ds = SegDataset(root='test',sift=False,test=True)"
   ]
  },
  {
   "cell_type": "markdown",
   "id": "c66944d3-d820-404b-be0a-4f716954d4ac",
   "metadata": {},
   "source": [
    "#### Visualize images and masks"
   ]
  },
  {
   "cell_type": "code",
   "execution_count": 131,
   "id": "513138bb-3c87-43b6-86c7-9002bced9698",
   "metadata": {},
   "outputs": [
    {
     "name": "stdout",
     "output_type": "stream",
     "text": [
      "3.62 ms ± 112 µs per loop (mean ± std. dev. of 7 runs, 100 loops each)\n"
     ]
    }
   ],
   "source": [
    "\n",
    "# enable numba for faster implementation\n",
    "\n",
    "# @numba.njit\n",
    "def put_mask(mask,image):\n",
    "    '''\n",
    "    Objective\n",
    "        return the image portion where the mask ==1\n",
    "    \n",
    "    Args\n",
    "        mask : 2D numpy array (r,c)\n",
    "        image: 2D numpy array\n",
    "    '''\n",
    "    for r in range(image.shape[0]):\n",
    "        for c in range(image.shape[1]):\n",
    "            if mask[r,c]==0 :\n",
    "                image[r,c]=0\n",
    "                \n",
    "    return image\n",
    "\n",
    "\n",
    "%timeit put_mask(mask,img)"
   ]
  },
  {
   "cell_type": "code",
   "execution_count": 132,
   "id": "8c0e89d7-ad2b-4406-bae6-bf4041a9198c",
   "metadata": {},
   "outputs": [
    {
     "data": {
      "application/vnd.jupyter.widget-view+json": {
       "model_id": "150d3310f1644dc482f3f66299664f3f",
       "version_major": 2,
       "version_minor": 0
      },
      "text/plain": [
       "interactive(children=(IntSlider(value=0, description='index', max=458), Checkbox(value=False, description='sav…"
      ]
     },
     "metadata": {},
     "output_type": "display_data"
    }
   ],
   "source": [
    "\n",
    "@interact(index=IntSlider(min=0,max=len(test_dl)-1),continous_update=False)\n",
    "def show_image(index,save=False):\n",
    "    \n",
    "    img = test_ds[index][0][0].numpy()\n",
    "    mask = test_ds[index][1][0].numpy()\n",
    "    mask = put_mask(mask,img.copy())\n",
    "    \n",
    "    plt.figure(figsize=(15,15))\n",
    "    \n",
    "    plt.subplot(1,2,1)\n",
    "    plt.title('Input')\n",
    "    plt.imshow(img,cmap='gray')\n",
    "    plt.axis('off')\n",
    "    \n",
    "    plt.subplot(1,2,2)\n",
    "    plt.title('Mask')\n",
    "    plt.imshow(mask,cmap='gray')\n",
    "    plt.axis('off')\n",
    "    \n",
    "    if save:\n",
    "        plt.savefig(os.path.join('viz','data.svg'))"
   ]
  },
  {
   "cell_type": "markdown",
   "id": "181ec5a6-b98a-41a2-a53b-a28e039d1093",
   "metadata": {},
   "source": [
    "#### Test dataset"
   ]
  },
  {
   "cell_type": "markdown",
   "id": "cf1dc663-93ea-4bf3-9b34-b1db31ad4b66",
   "metadata": {},
   "source": [
    "#### Visualize predictions"
   ]
  },
  {
   "cell_type": "markdown",
   "id": "c843246a-cab8-43a5-95d5-a6f84b8d5c8a",
   "metadata": {},
   "source": [
    "##### for variable batch"
   ]
  },
  {
   "cell_type": "code",
   "execution_count": 161,
   "id": "7cb3e9d6-61c3-4ccf-9769-6a4abfe5976e",
   "metadata": {},
   "outputs": [
    {
     "data": {
      "application/vnd.jupyter.widget-view+json": {
       "model_id": "4208bf66433e417c800a78bd68a5b6de",
       "version_major": 2,
       "version_minor": 0
      },
      "text/plain": [
       "interactive(children=(Dropdown(description='path', options=('models/variable batch size/batch_4_params_3104236…"
      ]
     },
     "metadata": {},
     "output_type": "display_data"
    }
   ],
   "source": [
    "\n",
    "def dice_coeff(input, label):\n",
    "    smooth = 1.\n",
    "    iflat = input.contiguous().view(-1)\n",
    "    lflat = label.contiguous().view(-1)\n",
    "    intersection = (iflat * lflat).sum()\n",
    "    \n",
    "    return ((2. * intersection + smooth) / (iflat.sum() + lflat.sum() + smooth))\n",
    "\n",
    "class dice_loss(nn.Module):\n",
    "    def __init__(self):\n",
    "        super().__init__()\n",
    "\n",
    "    def forward(self, input, label):\n",
    "        dice_val = dice_coeff(input, label)\n",
    "        return 1 - dice_val\n",
    "\n",
    "def postprocess_im(tensor: torch.Tensor ,th: float = 0.5):\n",
    "    \"\"\"\n",
    "    1. Applies sigmoid layer to U-Net output\n",
    "    2. Thresholds to certain value. \n",
    "    i.e.) Values lower than th = 0 / Values higher than th = 1\n",
    "    \"\"\"\n",
    "    \n",
    "    tensor_th = tensor.clone()\n",
    "    tensor_th = sigmoid(tensor_th)\n",
    "    tensor_th[tensor_th <= th] = 0\n",
    "    tensor_th[tensor_th > th] = 1\n",
    "    \n",
    "    return tensor_th   \n",
    "\n",
    "\n",
    "dice_score = []\n",
    "sigmoid = nn.Sigmoid()\n",
    "\n",
    "\n",
    "thisdir = os.path.join('models',  'variable batch size')\n",
    "models_paths = []\n",
    "loaded_model =None\n",
    "test_input_transform = PreprocessAug(device=0, batch_size=1,crop_size=320,full_size=320,)\n",
    "\n",
    "for r, d, f in os.walk(thisdir):\n",
    "    for file in f:\n",
    "        if file.endswith(\".tar\"):\n",
    "            models_paths.append(os.path.join(r, file))\n",
    "            \n",
    "@interact(path= models_paths,load=False)\n",
    "def load_and_test_model(path,load=False):\n",
    "    global loaded_model\n",
    "    \n",
    "    if load :\n",
    "        loaded_model = variable_unet_class(in_channels=1,out_channels=1,init_filters=64,block_count=4,upsample=False)\n",
    "        loaded_model.load_state_dict(torch.load(path))\n",
    "        torch.autograd.set_grad_enabled(False)\n",
    "        loaded_model.eval()\n",
    "        loaded_model.cuda();\n",
    "        print('model loaded.')\n",
    "        \n",
    "        dice_score = []\n",
    "        \n",
    "        for test_image,test_label in tqdm(test_ds):\n",
    "            test_image_cuda,label_image_cuda = test_input_transform(test_image.float(),test_label.float(),training=False)\n",
    "            label_prediction = postprocess_im(loaded_model(test_image_cuda))\n",
    "            dice_score.append(dice_coeff(label_prediction,label_image_cuda).detach().cpu().numpy())\n",
    "        \n",
    "        \n",
    "        print(f'Tested samples\\t={len(dice_score)}\\ndice score\\t={np.mean(dice_score)}')"
   ]
  },
  {
   "cell_type": "code",
   "execution_count": 177,
   "id": "aec6d9c6-70e4-410f-beb2-2ec31643a0b3",
   "metadata": {},
   "outputs": [
    {
     "data": {
      "image/png": "[encoded data removed]",
      "text/plain": [
       "<Figure size 720x360 with 1 Axes>"
      ]
     },
     "metadata": {
      "needs_background": "light"
     },
     "output_type": "display_data"
    }
   ],
   "source": [
    "# variable batch experiement\n",
    "variable_batch_dice_x = np.array([1,4,8,16])\n",
    "variable_batch_dice_y = np.array([0.7960584759712219,0.8609088659286499,0.786126434803009,0.7888643741607666])\n",
    "\n",
    "fig, ax1 = plt.subplots(figsize=(10,5))\n",
    "\n",
    "ax1.title.set_text(f'Batch size comparison')\n",
    "ax1.plot(variable_batch_dice_x,variable_batch_dice_y,'-ok',linewidth=3)\n",
    "ax1.tick_params(axis='y', labelcolor='black')\n",
    "ax1.set_ylabel('Dice score', color='black')\n",
    "ax1.set_xlabel('Batch size', color='black')\n",
    "\n",
    "# ax2 = ax1.twinx()  \n",
    "# ax2.set_ylabel('$MAE$', color='red')  \n",
    "# ax2.plot(iterations, MAE_iterations,'-r',linewidth=3)\n",
    "# ax2.tick_params(axis='y', labelcolor='red')\n",
    "\n",
    "fig.tight_layout()\n",
    "plt.savefig(os.path.join('viz','batch.svg'))"
   ]
  },
  {
   "cell_type": "code",
   "execution_count": 188,
   "id": "e179f356-2db2-46b8-bced-c9bb54e0bbb0",
   "metadata": {},
   "outputs": [
    {
     "data": {
      "application/vnd.jupyter.widget-view+json": {
       "model_id": "101921929e864f3ab4b1ae2764447824",
       "version_major": 2,
       "version_minor": 0
      },
      "text/plain": [
       "interactive(children=(Dropdown(description='path', options=('models/variable batch size/batch_4_params_3104236…"
      ]
     },
     "metadata": {},
     "output_type": "display_data"
    }
   ],
   "source": [
    "thisdir = os.path.join('models',  'variable batch size')\n",
    "models_paths = []\n",
    "loaded_model =None\n",
    "test_input_transform = PreprocessAug(device=0, batch_size=1,crop_size=320,full_size=320,)\n",
    "\n",
    "for r, d, f in os.walk(thisdir):\n",
    "    for file in f:\n",
    "        if file.endswith(\".tar\"):\n",
    "            models_paths.append(os.path.join(r, file))\n",
    "\n",
    "@interact(path= models_paths,load=False,index=IntSlider(min=0,max=len(test_dl)-1),continous_update=False,save=False)\n",
    "def load_and_visualize_model(path,load=False,index=0,save=False):\n",
    "    global loaded_model\n",
    "    \n",
    "    if load :\n",
    "        loaded_model = variable_unet_class(in_channels=1,out_channels=1,init_filters=64,block_count=4,upsample=False)\n",
    "        loaded_model.load_state_dict(torch.load(path))\n",
    "        torch.autograd.set_grad_enabled(False)\n",
    "        loaded_model.eval()\n",
    "        loaded_model.cuda();\n",
    "        print('model loaded.')\n",
    "        \n",
    "        dice_score = []\n",
    "        \n",
    "        img = test_ds[index][0][0].numpy()\n",
    "        mask = test_ds[index][1][0].numpy()\n",
    "        \n",
    "        img_cuda,label_cuda = test_input_transform(torch.from_numpy(img).float(),torch.from_numpy(mask).float(),training=False)\n",
    "        mask_pred = postprocess_im(loaded_model(img_cuda))\n",
    "        dice_score = (dice_coeff(label_prediction,label_image_cuda).detach().cpu().numpy())\n",
    "        \n",
    "        \n",
    "        plt.figure(figsize=(15,10))\n",
    "\n",
    "        plt.subplot(1,3,1)\n",
    "        plt.title('Input')\n",
    "        plt.imshow(img,cmap='jet')\n",
    "        plt.axis('off')\n",
    "\n",
    "        plt.subplot(1,3,2)\n",
    "        plt.title('True Mask')\n",
    "        plt.imshow(mask,cmap='jet')\n",
    "        plt.axis('off')\n",
    "        \n",
    "        plt.subplot(1,3,3)\n",
    "        plt.title('Predicted Mask')\n",
    "        plt.imshow(mask_pred.cpu()[0,0],cmap='jet')\n",
    "        plt.axis('off')\n",
    "        \n",
    "        if save:\n",
    "            plt.savefig(os.path.join('viz','true_pred.pdf'))\n",
    "    "
   ]
  },
  {
   "cell_type": "markdown",
   "id": "97eee98c-cbe2-4819-b208-db2e2a018a29",
   "metadata": {},
   "source": [
    "##### for variable filter size"
   ]
  },
  {
   "cell_type": "code",
   "execution_count": 184,
   "id": "c3e4a041-6e45-4705-bd69-22bfe81271d5",
   "metadata": {},
   "outputs": [
    {
     "data": {
      "application/vnd.jupyter.widget-view+json": {
       "model_id": "d56a6ae2a25f4949a62862d8a418c478",
       "version_major": 2,
       "version_minor": 0
      },
      "text/plain": [
       "interactive(children=(Dropdown(description='path', options=('models/variable filter size/init_filter_16_params…"
      ]
     },
     "metadata": {},
     "output_type": "display_data"
    }
   ],
   "source": [
    "\n",
    "def dice_coeff(input, label):\n",
    "    smooth = 1.\n",
    "    iflat = input.contiguous().view(-1)\n",
    "    lflat = label.contiguous().view(-1)\n",
    "    intersection = (iflat * lflat).sum()\n",
    "    \n",
    "    return ((2. * intersection + smooth) / (iflat.sum() + lflat.sum() + smooth))\n",
    "\n",
    "class dice_loss(nn.Module):\n",
    "    def __init__(self):\n",
    "        super().__init__()\n",
    "\n",
    "    def forward(self, input, label):\n",
    "        dice_val = dice_coeff(input, label)\n",
    "        return 1 - dice_val\n",
    "\n",
    "def postprocess_im(tensor: torch.Tensor ,th: float = 0.5):\n",
    "    \"\"\"\n",
    "    1. Applies sigmoid layer to U-Net output\n",
    "    2. Thresholds to certain value. \n",
    "    i.e.) Values lower than th = 0 / Values higher than th = 1\n",
    "    \"\"\"\n",
    "    \n",
    "    tensor_th = tensor.clone()\n",
    "    tensor_th = sigmoid(tensor_th)\n",
    "    tensor_th[tensor_th <= th] = 0\n",
    "    tensor_th[tensor_th > th] = 1\n",
    "    \n",
    "    return tensor_th   \n",
    "\n",
    "\n",
    "dice_score = []\n",
    "sigmoid = nn.Sigmoid()\n",
    "\n",
    "\n",
    "thisdir = os.path.join('models',  'variable filter size')\n",
    "models_paths = []\n",
    "loaded_model =None\n",
    "test_input_transform = PreprocessAug(device=0, batch_size=1,crop_size=320,full_size=320,)\n",
    "\n",
    "for r, d, f in os.walk(thisdir):\n",
    "    for file in f:\n",
    "        if file.endswith(\".tar\"):\n",
    "            models_paths.append(os.path.join(r, file))\n",
    "\n",
    "models_paths= sorted(models_paths)\n",
    "            \n",
    "@interact(path= models_paths,load=False)\n",
    "def load_and_test_model(path,load=False):\n",
    "    global loaded_model\n",
    "    \n",
    "    if load :\n",
    "        \n",
    "        init_filters = int(path.split('_')[-4])\n",
    "        \n",
    "        loaded_model = variable_unet_class(in_channels=1,out_channels=1,init_filters=init_filters,block_count=4,upsample=False)\n",
    "        loaded_model.load_state_dict(torch.load(path))\n",
    "        torch.autograd.set_grad_enabled(False)\n",
    "        loaded_model.eval()\n",
    "        loaded_model.cuda();\n",
    "        print('model loaded.')\n",
    "        \n",
    "        dice_score = []\n",
    "        \n",
    "        for test_image,test_label in tqdm(test_ds):\n",
    "            test_image_cuda,label_image_cuda = test_input_transform(test_image.float(),test_label.float(),training=False)\n",
    "            label_prediction = postprocess_im(loaded_model(test_image_cuda))\n",
    "            dice_score.append(dice_coeff(label_prediction,label_image_cuda).detach().cpu().numpy())\n",
    "        \n",
    "        \n",
    "        count_params = lambda  model : sum(p.numel() for p in model.parameters() if p.requires_grad)\n",
    "        \n",
    "        print(f'Parameters \\t={count_params(loaded_model)}')\n",
    "        print(f'Tested samples\\t={len(dice_score)}\\ndice score\\t={np.mean(dice_score)}')"
   ]
  },
  {
   "cell_type": "code",
   "execution_count": 203,
   "id": "42837374-86b4-4dfd-8953-c68e4052772f",
   "metadata": {},
   "outputs": [
    {
     "data": {
      "image/png": "[encoded data removed]",
      "text/plain": [
       "<Figure size 720x360 with 2 Axes>"
      ]
     },
     "metadata": {
      "needs_background": "light"
     },
     "output_type": "display_data"
    }
   ],
   "source": [
    "# variable batch experiement\n",
    "variable_filter_dice_x = np.array([8,16,32,64])\n",
    "variable_filter_dice_y = np.array([0.8376182913780212,0.8509801626205444,0.8448148965835571,0.8770840167999268])\n",
    "variable_filter_dice_y_params = np.array([487145,1943761,7765409,31042369])\n",
    "\n",
    "fig, ax1 = plt.subplots(figsize=(10,5))\n",
    "\n",
    "ax1.title.set_text(f'Initial filter size comparison')\n",
    "ax1.plot(variable_filter_dice_x,variable_filter_dice_y,'-ok',linewidth=3)\n",
    "ax1.tick_params(axis='y', labelcolor='black')\n",
    "ax1.set_ylabel('Dice score', color='black')\n",
    "ax1.set_xlabel('Initial filter size', color='black')\n",
    "ax1.set_xticks(variable_filter_dice_x)\n",
    "\n",
    "ax2 = ax1.twinx()  \n",
    "ax2.set_ylabel('parameters count', color='red')  \n",
    "ax2.plot(variable_filter_dice_x, variable_filter_dice_y_params,'-r',linewidth=3)\n",
    "ax2.tick_params(axis='y', labelcolor='red')\n",
    "\n",
    "fig.tight_layout()\n",
    "plt.savefig(os.path.join('viz','filter.pdf'))"
   ]
  },
  {
   "cell_type": "markdown",
   "id": "f63d0af2-b05c-4df1-9d2f-33d18d8d5677",
   "metadata": {},
   "source": [
    "##### for variable block count\n"
   ]
  },
  {
   "cell_type": "code",
   "execution_count": 190,
   "id": "eaf8d53c-ef61-427d-a23e-9049bc7d1d6f",
   "metadata": {},
   "outputs": [
    {
     "data": {
      "application/vnd.jupyter.widget-view+json": {
       "model_id": "c31801c4f17b44ec9e34364207e16e03",
       "version_major": 2,
       "version_minor": 0
      },
      "text/plain": [
       "interactive(children=(Dropdown(description='path', options=('models/variable block count/block_count_4_params_…"
      ]
     },
     "metadata": {},
     "output_type": "display_data"
    }
   ],
   "source": [
    "\n",
    "def dice_coeff(input, label):\n",
    "    smooth = 1.\n",
    "    iflat = input.contiguous().view(-1)\n",
    "    lflat = label.contiguous().view(-1)\n",
    "    intersection = (iflat * lflat).sum()\n",
    "    \n",
    "    return ((2. * intersection + smooth) / (iflat.sum() + lflat.sum() + smooth))\n",
    "\n",
    "class dice_loss(nn.Module):\n",
    "    def __init__(self):\n",
    "        super().__init__()\n",
    "\n",
    "    def forward(self, input, label):\n",
    "        dice_val = dice_coeff(input, label)\n",
    "        return 1 - dice_val\n",
    "\n",
    "def postprocess_im(tensor: torch.Tensor ,th: float = 0.5):\n",
    "    \"\"\"\n",
    "    1. Applies sigmoid layer to U-Net output\n",
    "    2. Thresholds to certain value. \n",
    "    i.e.) Values lower than th = 0 / Values higher than th = 1\n",
    "    \"\"\"\n",
    "    \n",
    "    tensor_th = tensor.clone()\n",
    "    tensor_th = sigmoid(tensor_th)\n",
    "    tensor_th[tensor_th <= th] = 0\n",
    "    tensor_th[tensor_th > th] = 1\n",
    "    \n",
    "    return tensor_th   \n",
    "\n",
    "\n",
    "dice_score = []\n",
    "sigmoid = nn.Sigmoid()\n",
    "\n",
    "\n",
    "thisdir = os.path.join('models',  'variable block count')\n",
    "models_paths = []\n",
    "loaded_model =None\n",
    "test_input_transform = PreprocessAug(device=0, batch_size=1,crop_size=320,full_size=320,)\n",
    "\n",
    "for r, d, f in os.walk(thisdir):\n",
    "    for file in f:\n",
    "        if file.endswith(\".tar\"):\n",
    "            models_paths.append(os.path.join(r, file))\n",
    "\n",
    "models_paths= sorted(models_paths)\n",
    "            \n",
    "@interact(path= models_paths,load=False)\n",
    "def load_and_test_model(path,load=False):\n",
    "    global loaded_model\n",
    "    \n",
    "    if load :\n",
    "        \n",
    "        block_count = int(path.split('_')[-4])\n",
    "        \n",
    "        loaded_model = variable_unet_class(in_channels=1,out_channels=1,init_filters=4,block_count=block_count,upsample=False)\n",
    "        loaded_model.load_state_dict(torch.load(path))\n",
    "        torch.autograd.set_grad_enabled(False)\n",
    "        loaded_model.eval()\n",
    "        loaded_model.cuda();\n",
    "        print('model loaded.')\n",
    "        \n",
    "        dice_score = []\n",
    "        \n",
    "        for test_image,test_label in tqdm(test_ds):\n",
    "            test_image_cuda,label_image_cuda = test_input_transform(test_image.float(),test_label.float(),training=False)\n",
    "            label_prediction = postprocess_im(loaded_model(test_image_cuda))\n",
    "            dice_score.append(dice_coeff(label_prediction,label_image_cuda).detach().cpu().numpy())\n",
    "        \n",
    "        \n",
    "        count_params = lambda  model : sum(p.numel() for p in model.parameters() if p.requires_grad)\n",
    "        \n",
    "        print(f'Parameters \\t={count_params(loaded_model)}')\n",
    "        print(f'Tested samples\\t={len(dice_score)}\\ndice score\\t={np.mean(dice_score)}')"
   ]
  },
  {
   "cell_type": "code",
   "execution_count": 202,
   "id": "42d368b8-21f8-4c9f-ab21-d7ebbb67a75c",
   "metadata": {},
   "outputs": [
    {
     "data": {
      "image/png": "[encoded data removed]",
      "text/plain": [
       "<Figure size 720x360 with 2 Axes>"
      ]
     },
     "metadata": {
      "needs_background": "light"
     },
     "output_type": "display_data"
    }
   ],
   "source": [
    "# variable batch experiement\n",
    "variable_block_dice_x = np.array([8,16,32,64])\n",
    "variable_block_dice_y = np.array([0.731446385383606,0.7391102313995361,0.41931119561195374,0.41931119561195374])\n",
    "variable_block_dice_y_params = np.array([122389,488149,1948757,7786325])\n",
    "\n",
    "fig, ax1 = plt.subplots(figsize=(10,5))\n",
    "\n",
    "ax1.title.set_text(f'Block count comparison')\n",
    "ax1.plot(variable_block_dice_x,variable_block_dice_y,'-ok',linewidth=3)\n",
    "ax1.tick_params(axis='y', labelcolor='black')\n",
    "ax1.set_ylabel('Dice score', color='black')\n",
    "ax1.set_xlabel('Block', color='black')\n",
    "ax1.set_xticks(variable_block_dice_x)\n",
    "\n",
    "ax2 = ax1.twinx()  \n",
    "ax2.set_ylabel('parameters count', color='red')  \n",
    "ax2.plot(variable_block_dice_x, variable_block_dice_y_params,'-r',linewidth=3)\n",
    "ax2.tick_params(axis='y', labelcolor='red')\n",
    "\n",
    "fig.tight_layout()\n",
    "plt.savefig(os.path.join('viz','block.pdf'))"
   ]
  }
 ],
 "metadata": {
  "kernelspec": {
   "display_name": "Python 3 (ipykernel)",
   "language": "python",
   "name": "python3"
  },
  "language_info": {
   "codemirror_mode": {
    "name": "ipython",
    "version": 3
   },
   "file_extension": ".py",
   "mimetype": "text/x-python",
   "name": "python",
   "nbconvert_exporter": "python",
   "pygments_lexer": "ipython3",
   "version": "3.9.7"
  }
 },
 "nbformat": 4,
 "nbformat_minor": 5
}
